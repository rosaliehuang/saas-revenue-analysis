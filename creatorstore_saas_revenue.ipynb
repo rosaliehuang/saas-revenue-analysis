{
 "cells": [
  {
   "cell_type": "markdown",
   "id": "a65f5b3c",
   "metadata": {},
   "source": [
    "# Revenue & Product Analysis for a Digital SaaS\n",
    "\n",
    "### Introduction\n",
    "\n",
    "In this project, we analyze the product and revenue performance of a fictional digital SaaS platform that enables creators to sell digital products like courses, templates, e-books, and memberships — inspired by tools like [Stan](https://www.stan.store/) and [The Leap](https://www.theleap.co/)\n",
    "\n",
    "The goal of this analysis is to identify key revenue trends, explore product performance, and highlight where the platform can optimize marketing and product strategy. \n",
    "\n",
    "The dataset used in this analysis is artificially generated.\n",
    "\n",
    "> 📌 Note: This project is part of my personal portfolio and was created for learning and demonstration purposes only.\n",
    "\n",
    "### Table of Contents\n",
    "- Tools & Skills Used\n",
    "- Asking Questions  \n",
    "- Data Wrangling  \n",
    "- Exploratory Data Analysis  \n",
    "- Key Insights & Recommendations  \n",
    "- Conclusions  \n",
    "\n",
    "### Tools & Skills Used  \n",
    "- Python (Pandas) for data manipulation and cleaning  \n",
    "- Data wrangling techniques to handle missing values and duplicates  \n",
    "- Exploratory Data Analysis (EDA) with Seaborn & Matplotlib  \n",
    "- Basic statistics for hypothesis testing and trend analysis\n",
    "- Business storytelling to connect data insights with actionable recommendations\n",
    "\n",
    "### Asking Questions\n",
    "Based on the dataset, we are interested in exploring the following questions:\n",
    "\n",
    "**Q1:** What product types drive the most revenue efficiency (revenue per order)?\n",
    "\n",
    "**Q2:** How does product performance vary across different creator niches (e.g. Business, Wellness, Finance)?  \n",
    "\n",
    "**Q3:** Are there any monthly or seasonal trends in revenue over time?\n",
    "\n",
    "**Q4:** Is there a price “sweet spot” that balances volume and revenue?\n",
    "\n",
    "**Q5:** What do top-performing creators have in common: pricing? niche? product type?\n",
    "\n",
    "The insights generated from these questions will inform product enhancements, pricing strategies, and targeted marketing campaigns to help the platform grow revenue and better support creators."
   ]
  },
  {
   "cell_type": "markdown",
   "id": "9683b72d",
   "metadata": {},
   "source": [
    "---\n",
    "\n",
    "### Data Wrangling\n",
    "\n",
    "In this section, we prepare the environment, load the dataset, and clean the data to ensure quality for further analysis."
   ]
  },
  {
   "cell_type": "markdown",
   "id": "59d096c3",
   "metadata": {},
   "source": [
    "#### Preparing the Environment"
   ]
  },
  {
   "cell_type": "code",
   "execution_count": 1,
   "id": "a142f544",
   "metadata": {},
   "outputs": [],
   "source": [
    "# Import libraries\n",
    "import pandas as pd\n",
    "import numpy as np\n",
    "import seaborn as sns\n",
    "import matplotlib.pyplot as plt"
   ]
  },
  {
   "cell_type": "code",
   "execution_count": 2,
   "id": "fbdc0612",
   "metadata": {},
   "outputs": [
    {
     "data": {
      "text/html": [
       "<div>\n",
       "<style scoped>\n",
       "    .dataframe tbody tr th:only-of-type {\n",
       "        vertical-align: middle;\n",
       "    }\n",
       "\n",
       "    .dataframe tbody tr th {\n",
       "        vertical-align: top;\n",
       "    }\n",
       "\n",
       "    .dataframe thead th {\n",
       "        text-align: right;\n",
       "    }\n",
       "</style>\n",
       "<table border=\"1\" class=\"dataframe\">\n",
       "  <thead>\n",
       "    <tr style=\"text-align: right;\">\n",
       "      <th></th>\n",
       "      <th>creator_id</th>\n",
       "      <th>product</th>\n",
       "      <th>order_type</th>\n",
       "      <th>order_date</th>\n",
       "      <th>order_value</th>\n",
       "      <th>niche</th>\n",
       "    </tr>\n",
       "  </thead>\n",
       "  <tbody>\n",
       "    <tr>\n",
       "      <th>0</th>\n",
       "      <td>creator_2</td>\n",
       "      <td>E-book</td>\n",
       "      <td>renewal</td>\n",
       "      <td>2023-11-01</td>\n",
       "      <td>45.49</td>\n",
       "      <td>Wellness</td>\n",
       "    </tr>\n",
       "    <tr>\n",
       "      <th>1</th>\n",
       "      <td>creator_8</td>\n",
       "      <td>1-on-1 Coaching</td>\n",
       "      <td>new</td>\n",
       "      <td>2024-06-01</td>\n",
       "      <td>46.34</td>\n",
       "      <td>Business</td>\n",
       "    </tr>\n",
       "    <tr>\n",
       "      <th>2</th>\n",
       "      <td>creator_18</td>\n",
       "      <td>1-on-1 Coaching</td>\n",
       "      <td>new</td>\n",
       "      <td>2023-08-01</td>\n",
       "      <td>60.35</td>\n",
       "      <td>Fitness</td>\n",
       "    </tr>\n",
       "    <tr>\n",
       "      <th>3</th>\n",
       "      <td>creator_11</td>\n",
       "      <td>1-on-1 Coaching</td>\n",
       "      <td>new</td>\n",
       "      <td>2023-10-01</td>\n",
       "      <td>43.95</td>\n",
       "      <td>Finance</td>\n",
       "    </tr>\n",
       "    <tr>\n",
       "      <th>4</th>\n",
       "      <td>creator_18</td>\n",
       "      <td>Template Pack</td>\n",
       "      <td>new</td>\n",
       "      <td>2023-04-01</td>\n",
       "      <td>46.56</td>\n",
       "      <td>Finance</td>\n",
       "    </tr>\n",
       "  </tbody>\n",
       "</table>\n",
       "</div>"
      ],
      "text/plain": [
       "   creator_id          product order_type  order_date order_value     niche\n",
       "0   creator_2           E-book    renewal  2023-11-01       45.49  Wellness\n",
       "1   creator_8  1-on-1 Coaching        new  2024-06-01       46.34  Business\n",
       "2  creator_18  1-on-1 Coaching        new  2023-08-01       60.35   Fitness\n",
       "3  creator_11  1-on-1 Coaching        new  2023-10-01       43.95   Finance\n",
       "4  creator_18    Template Pack        new  2023-04-01       46.56   Finance"
      ]
     },
     "execution_count": 2,
     "metadata": {},
     "output_type": "execute_result"
    }
   ],
   "source": [
    "# load in data\n",
    "df = pd.read_csv(\"saas_revenue_data.csv\")\n",
    "df.head()"
   ]
  },
  {
   "cell_type": "markdown",
   "id": "8fb9c62d",
   "metadata": {},
   "source": [
    "#### Inspect Data\n",
    "We will run a few queries to get these information from our data set.\n",
    "\n",
    "- What are the data types?\n",
    "- Are there any duplicated rows and if yes, how many?\n",
    "- Is there any missing values and if yes, how many?\n",
    "- What are the unique values and what is the count?"
   ]
  },
  {
   "cell_type": "code",
   "execution_count": 3,
   "id": "b48728a7",
   "metadata": {},
   "outputs": [
    {
     "name": "stdout",
     "output_type": "stream",
     "text": [
      "<class 'pandas.core.frame.DataFrame'>\n",
      "RangeIndex: 1110 entries, 0 to 1109\n",
      "Data columns (total 6 columns):\n",
      " #   Column       Non-Null Count  Dtype \n",
      "---  ------       --------------  ----- \n",
      " 0   creator_id   1110 non-null   object\n",
      " 1   product      1057 non-null   object\n",
      " 2   order_type   1110 non-null   object\n",
      " 3   order_date   1110 non-null   object\n",
      " 4   order_value  1110 non-null   object\n",
      " 5   niche        1110 non-null   object\n",
      "dtypes: object(6)\n",
      "memory usage: 52.2+ KB\n"
     ]
    }
   ],
   "source": [
    "# datatypes of columns\n",
    "df.info()"
   ]
  },
  {
   "cell_type": "code",
   "execution_count": 4,
   "id": "4e857cf9",
   "metadata": {},
   "outputs": [
    {
     "data": {
      "text/plain": [
       "2"
      ]
     },
     "execution_count": 4,
     "metadata": {},
     "output_type": "execute_result"
    }
   ],
   "source": [
    "# duplicate rows\n",
    "df.duplicated().sum()"
   ]
  },
  {
   "cell_type": "code",
   "execution_count": 5,
   "id": "2ef4bab5",
   "metadata": {},
   "outputs": [
    {
     "data": {
      "text/plain": [
       "creator_id      0\n",
       "product        53\n",
       "order_type      0\n",
       "order_date      0\n",
       "order_value     0\n",
       "niche           0\n",
       "dtype: int64"
      ]
     },
     "execution_count": 5,
     "metadata": {},
     "output_type": "execute_result"
    }
   ],
   "source": [
    "# features with missing values\n",
    "df.isnull().sum()"
   ]
  },
  {
   "cell_type": "code",
   "execution_count": 6,
   "id": "c2cc83c7",
   "metadata": {},
   "outputs": [
    {
     "data": {
      "text/plain": [
       "creator_id      20\n",
       "product          5\n",
       "order_type       3\n",
       "order_date      18\n",
       "order_value    963\n",
       "niche            8\n",
       "dtype: int64"
      ]
     },
     "execution_count": 6,
     "metadata": {},
     "output_type": "execute_result"
    }
   ],
   "source": [
    "# number of non-null unique values for features in the dataset\n",
    "df.nunique()"
   ]
  },
  {
   "cell_type": "code",
   "execution_count": 7,
   "id": "951363fd",
   "metadata": {},
   "outputs": [
    {
     "data": {
      "text/html": [
       "<div>\n",
       "<style scoped>\n",
       "    .dataframe tbody tr th:only-of-type {\n",
       "        vertical-align: middle;\n",
       "    }\n",
       "\n",
       "    .dataframe tbody tr th {\n",
       "        vertical-align: top;\n",
       "    }\n",
       "\n",
       "    .dataframe thead th {\n",
       "        text-align: right;\n",
       "    }\n",
       "</style>\n",
       "<table border=\"1\" class=\"dataframe\">\n",
       "  <thead>\n",
       "    <tr style=\"text-align: right;\">\n",
       "      <th></th>\n",
       "      <th>creator_id</th>\n",
       "      <th>product</th>\n",
       "      <th>order_type</th>\n",
       "      <th>order_date</th>\n",
       "      <th>order_value</th>\n",
       "      <th>niche</th>\n",
       "    </tr>\n",
       "  </thead>\n",
       "  <tbody>\n",
       "    <tr>\n",
       "      <th>count</th>\n",
       "      <td>1110</td>\n",
       "      <td>1057</td>\n",
       "      <td>1110</td>\n",
       "      <td>1110</td>\n",
       "      <td>1110</td>\n",
       "      <td>1110</td>\n",
       "    </tr>\n",
       "    <tr>\n",
       "      <th>unique</th>\n",
       "      <td>20</td>\n",
       "      <td>5</td>\n",
       "      <td>3</td>\n",
       "      <td>18</td>\n",
       "      <td>963</td>\n",
       "      <td>8</td>\n",
       "    </tr>\n",
       "    <tr>\n",
       "      <th>top</th>\n",
       "      <td>creator_4</td>\n",
       "      <td>E-book</td>\n",
       "      <td>new</td>\n",
       "      <td>2023-04-01</td>\n",
       "      <td>unknown</td>\n",
       "      <td>Wellness</td>\n",
       "    </tr>\n",
       "    <tr>\n",
       "      <th>freq</th>\n",
       "      <td>72</td>\n",
       "      <td>229</td>\n",
       "      <td>386</td>\n",
       "      <td>81</td>\n",
       "      <td>36</td>\n",
       "      <td>155</td>\n",
       "    </tr>\n",
       "  </tbody>\n",
       "</table>\n",
       "</div>"
      ],
      "text/plain": [
       "       creator_id product order_type  order_date order_value     niche\n",
       "count        1110    1057       1110        1110        1110      1110\n",
       "unique         20       5          3          18         963         8\n",
       "top     creator_4  E-book        new  2023-04-01     unknown  Wellness\n",
       "freq           72     229        386          81          36       155"
      ]
     },
     "execution_count": 7,
     "metadata": {},
     "output_type": "execute_result"
    }
   ],
   "source": [
    "df.describe(include='all')"
   ]
  },
  {
   "cell_type": "markdown",
   "id": "b7278921",
   "metadata": {},
   "source": [
    "**Observations:**\n",
    "\n",
    "- `order_value` and `order_date` are incorrectly stored as `object` type\n",
    "\n",
    "- `product` has 53 missing values\n",
    "\n",
    "- `order_value` contains some non-numeric values like 'unknown'\n",
    "\n",
    "- There are 2 duplicated rows"
   ]
  },
  {
   "cell_type": "markdown",
   "id": "2974da16",
   "metadata": {},
   "source": [
    "#### Cleaning the Data\n",
    "\n",
    "**1. Convert order_value to float**\n",
    "\n",
    "We'll coerce invalid values (e.g. 'unknown') into NaN.\n"
   ]
  },
  {
   "cell_type": "code",
   "execution_count": 8,
   "id": "7a1d8273",
   "metadata": {},
   "outputs": [],
   "source": [
    "df['order_value'] = pd.to_numeric(df['order_value'], errors='coerce')"
   ]
  },
  {
   "cell_type": "markdown",
   "id": "3b9033db",
   "metadata": {},
   "source": [
    "**2. Convert order_date to datetime**"
   ]
  },
  {
   "cell_type": "code",
   "execution_count": 9,
   "id": "70e0b1a1",
   "metadata": {},
   "outputs": [],
   "source": [
    "df['order_date'] = pd.to_datetime(df['order_date'], errors='coerce')"
   ]
  },
  {
   "cell_type": "code",
   "execution_count": 10,
   "id": "b046716b",
   "metadata": {},
   "outputs": [
    {
     "name": "stdout",
     "output_type": "stream",
     "text": [
      "<class 'pandas.core.frame.DataFrame'>\n",
      "RangeIndex: 1110 entries, 0 to 1109\n",
      "Data columns (total 6 columns):\n",
      " #   Column       Non-Null Count  Dtype         \n",
      "---  ------       --------------  -----         \n",
      " 0   creator_id   1110 non-null   object        \n",
      " 1   product      1057 non-null   object        \n",
      " 2   order_type   1110 non-null   object        \n",
      " 3   order_date   1110 non-null   datetime64[ns]\n",
      " 4   order_value  1074 non-null   float64       \n",
      " 5   niche        1110 non-null   object        \n",
      "dtypes: datetime64[ns](1), float64(1), object(4)\n",
      "memory usage: 52.2+ KB\n"
     ]
    },
    {
     "data": {
      "text/html": [
       "<div>\n",
       "<style scoped>\n",
       "    .dataframe tbody tr th:only-of-type {\n",
       "        vertical-align: middle;\n",
       "    }\n",
       "\n",
       "    .dataframe tbody tr th {\n",
       "        vertical-align: top;\n",
       "    }\n",
       "\n",
       "    .dataframe thead th {\n",
       "        text-align: right;\n",
       "    }\n",
       "</style>\n",
       "<table border=\"1\" class=\"dataframe\">\n",
       "  <thead>\n",
       "    <tr style=\"text-align: right;\">\n",
       "      <th></th>\n",
       "      <th>creator_id</th>\n",
       "      <th>product</th>\n",
       "      <th>order_type</th>\n",
       "      <th>order_date</th>\n",
       "      <th>order_value</th>\n",
       "      <th>niche</th>\n",
       "    </tr>\n",
       "  </thead>\n",
       "  <tbody>\n",
       "    <tr>\n",
       "      <th>count</th>\n",
       "      <td>1110</td>\n",
       "      <td>1057</td>\n",
       "      <td>1110</td>\n",
       "      <td>1110</td>\n",
       "      <td>1074.000000</td>\n",
       "      <td>1110</td>\n",
       "    </tr>\n",
       "    <tr>\n",
       "      <th>unique</th>\n",
       "      <td>20</td>\n",
       "      <td>5</td>\n",
       "      <td>3</td>\n",
       "      <td>NaN</td>\n",
       "      <td>NaN</td>\n",
       "      <td>8</td>\n",
       "    </tr>\n",
       "    <tr>\n",
       "      <th>top</th>\n",
       "      <td>creator_4</td>\n",
       "      <td>E-book</td>\n",
       "      <td>new</td>\n",
       "      <td>NaN</td>\n",
       "      <td>NaN</td>\n",
       "      <td>Wellness</td>\n",
       "    </tr>\n",
       "    <tr>\n",
       "      <th>freq</th>\n",
       "      <td>72</td>\n",
       "      <td>229</td>\n",
       "      <td>386</td>\n",
       "      <td>NaN</td>\n",
       "      <td>NaN</td>\n",
       "      <td>155</td>\n",
       "    </tr>\n",
       "    <tr>\n",
       "      <th>mean</th>\n",
       "      <td>NaN</td>\n",
       "      <td>NaN</td>\n",
       "      <td>NaN</td>\n",
       "      <td>2023-09-15 11:54:48.648648704</td>\n",
       "      <td>37.642877</td>\n",
       "      <td>NaN</td>\n",
       "    </tr>\n",
       "    <tr>\n",
       "      <th>min</th>\n",
       "      <td>NaN</td>\n",
       "      <td>NaN</td>\n",
       "      <td>NaN</td>\n",
       "      <td>2023-01-01 00:00:00</td>\n",
       "      <td>-15.290000</td>\n",
       "      <td>NaN</td>\n",
       "    </tr>\n",
       "    <tr>\n",
       "      <th>25%</th>\n",
       "      <td>NaN</td>\n",
       "      <td>NaN</td>\n",
       "      <td>NaN</td>\n",
       "      <td>2023-05-01 00:00:00</td>\n",
       "      <td>26.682500</td>\n",
       "      <td>NaN</td>\n",
       "    </tr>\n",
       "    <tr>\n",
       "      <th>50%</th>\n",
       "      <td>NaN</td>\n",
       "      <td>NaN</td>\n",
       "      <td>NaN</td>\n",
       "      <td>2023-09-01 00:00:00</td>\n",
       "      <td>37.510000</td>\n",
       "      <td>NaN</td>\n",
       "    </tr>\n",
       "    <tr>\n",
       "      <th>75%</th>\n",
       "      <td>NaN</td>\n",
       "      <td>NaN</td>\n",
       "      <td>NaN</td>\n",
       "      <td>2024-02-01 00:00:00</td>\n",
       "      <td>49.177500</td>\n",
       "      <td>NaN</td>\n",
       "    </tr>\n",
       "    <tr>\n",
       "      <th>max</th>\n",
       "      <td>NaN</td>\n",
       "      <td>NaN</td>\n",
       "      <td>NaN</td>\n",
       "      <td>2024-06-01 00:00:00</td>\n",
       "      <td>90.400000</td>\n",
       "      <td>NaN</td>\n",
       "    </tr>\n",
       "    <tr>\n",
       "      <th>std</th>\n",
       "      <td>NaN</td>\n",
       "      <td>NaN</td>\n",
       "      <td>NaN</td>\n",
       "      <td>NaN</td>\n",
       "      <td>17.229755</td>\n",
       "      <td>NaN</td>\n",
       "    </tr>\n",
       "  </tbody>\n",
       "</table>\n",
       "</div>"
      ],
      "text/plain": [
       "       creator_id product order_type                     order_date  \\\n",
       "count        1110    1057       1110                           1110   \n",
       "unique         20       5          3                            NaN   \n",
       "top     creator_4  E-book        new                            NaN   \n",
       "freq           72     229        386                            NaN   \n",
       "mean          NaN     NaN        NaN  2023-09-15 11:54:48.648648704   \n",
       "min           NaN     NaN        NaN            2023-01-01 00:00:00   \n",
       "25%           NaN     NaN        NaN            2023-05-01 00:00:00   \n",
       "50%           NaN     NaN        NaN            2023-09-01 00:00:00   \n",
       "75%           NaN     NaN        NaN            2024-02-01 00:00:00   \n",
       "max           NaN     NaN        NaN            2024-06-01 00:00:00   \n",
       "std           NaN     NaN        NaN                            NaN   \n",
       "\n",
       "        order_value     niche  \n",
       "count   1074.000000      1110  \n",
       "unique          NaN         8  \n",
       "top             NaN  Wellness  \n",
       "freq            NaN       155  \n",
       "mean      37.642877       NaN  \n",
       "min      -15.290000       NaN  \n",
       "25%       26.682500       NaN  \n",
       "50%       37.510000       NaN  \n",
       "75%       49.177500       NaN  \n",
       "max       90.400000       NaN  \n",
       "std       17.229755       NaN  "
      ]
     },
     "execution_count": 10,
     "metadata": {},
     "output_type": "execute_result"
    }
   ],
   "source": [
    "# Check again\n",
    "df.info()\n",
    "df.describe(include='all')\n"
   ]
  },
  {
   "cell_type": "markdown",
   "id": "efbbcbf0",
   "metadata": {},
   "source": [
    "**New Observations:**\n",
    "\n",
    "- `order_value` contains negative values which aren't valid in this context. We'll handle this in the next step.\n",
    "\n",
    "**3. Handle invalid & missing values**"
   ]
  },
  {
   "cell_type": "code",
   "execution_count": 11,
   "id": "167dca7f",
   "metadata": {},
   "outputs": [],
   "source": [
    "# order_value: Since negative prices aren't valid in this context, and NaN rows can't be used, we’ll remove them.\n",
    "df = df[df['order_value'].notnull()]\n",
    "df = df[df['order_value'] >= 0]"
   ]
  },
  {
   "cell_type": "code",
   "execution_count": 12,
   "id": "9de34856",
   "metadata": {},
   "outputs": [],
   "source": [
    "# Missing product: We’ll label missing `product` as \"Unknown\" to preserve the data.\n",
    "df[\"product\"] = df[\"product\"].fillna(\"Unknown\")"
   ]
  },
  {
   "cell_type": "markdown",
   "id": "c1389138",
   "metadata": {},
   "source": [
    "**4. Remove duplicates**"
   ]
  },
  {
   "cell_type": "code",
   "execution_count": 13,
   "id": "c3d24eac",
   "metadata": {},
   "outputs": [],
   "source": [
    "df = df.drop_duplicates()"
   ]
  },
  {
   "cell_type": "code",
   "execution_count": 14,
   "id": "5c99e927",
   "metadata": {},
   "outputs": [
    {
     "name": "stdout",
     "output_type": "stream",
     "text": [
      "<class 'pandas.core.frame.DataFrame'>\n",
      "Index: 1055 entries, 0 to 1109\n",
      "Data columns (total 6 columns):\n",
      " #   Column       Non-Null Count  Dtype         \n",
      "---  ------       --------------  -----         \n",
      " 0   creator_id   1055 non-null   object        \n",
      " 1   product      1055 non-null   object        \n",
      " 2   order_type   1055 non-null   object        \n",
      " 3   order_date   1055 non-null   datetime64[ns]\n",
      " 4   order_value  1055 non-null   float64       \n",
      " 5   niche        1055 non-null   object        \n",
      "dtypes: datetime64[ns](1), float64(1), object(4)\n",
      "memory usage: 57.7+ KB\n"
     ]
    },
    {
     "data": {
      "text/html": [
       "<div>\n",
       "<style scoped>\n",
       "    .dataframe tbody tr th:only-of-type {\n",
       "        vertical-align: middle;\n",
       "    }\n",
       "\n",
       "    .dataframe tbody tr th {\n",
       "        vertical-align: top;\n",
       "    }\n",
       "\n",
       "    .dataframe thead th {\n",
       "        text-align: right;\n",
       "    }\n",
       "</style>\n",
       "<table border=\"1\" class=\"dataframe\">\n",
       "  <thead>\n",
       "    <tr style=\"text-align: right;\">\n",
       "      <th></th>\n",
       "      <th>creator_id</th>\n",
       "      <th>product</th>\n",
       "      <th>order_type</th>\n",
       "      <th>order_date</th>\n",
       "      <th>order_value</th>\n",
       "      <th>niche</th>\n",
       "    </tr>\n",
       "  </thead>\n",
       "  <tbody>\n",
       "    <tr>\n",
       "      <th>count</th>\n",
       "      <td>1055</td>\n",
       "      <td>1055</td>\n",
       "      <td>1055</td>\n",
       "      <td>1055</td>\n",
       "      <td>1055.000000</td>\n",
       "      <td>1055</td>\n",
       "    </tr>\n",
       "    <tr>\n",
       "      <th>unique</th>\n",
       "      <td>20</td>\n",
       "      <td>6</td>\n",
       "      <td>3</td>\n",
       "      <td>NaN</td>\n",
       "      <td>NaN</td>\n",
       "      <td>8</td>\n",
       "    </tr>\n",
       "    <tr>\n",
       "      <th>top</th>\n",
       "      <td>creator_17</td>\n",
       "      <td>E-book</td>\n",
       "      <td>new</td>\n",
       "      <td>NaN</td>\n",
       "      <td>NaN</td>\n",
       "      <td>Wellness</td>\n",
       "    </tr>\n",
       "    <tr>\n",
       "      <th>freq</th>\n",
       "      <td>65</td>\n",
       "      <td>216</td>\n",
       "      <td>368</td>\n",
       "      <td>NaN</td>\n",
       "      <td>NaN</td>\n",
       "      <td>149</td>\n",
       "    </tr>\n",
       "    <tr>\n",
       "      <th>mean</th>\n",
       "      <td>NaN</td>\n",
       "      <td>NaN</td>\n",
       "      <td>NaN</td>\n",
       "      <td>2023-09-14 13:34:51.753554432</td>\n",
       "      <td>38.339460</td>\n",
       "      <td>NaN</td>\n",
       "    </tr>\n",
       "    <tr>\n",
       "      <th>min</th>\n",
       "      <td>NaN</td>\n",
       "      <td>NaN</td>\n",
       "      <td>NaN</td>\n",
       "      <td>2023-01-01 00:00:00</td>\n",
       "      <td>0.500000</td>\n",
       "      <td>NaN</td>\n",
       "    </tr>\n",
       "    <tr>\n",
       "      <th>25%</th>\n",
       "      <td>NaN</td>\n",
       "      <td>NaN</td>\n",
       "      <td>NaN</td>\n",
       "      <td>2023-05-01 00:00:00</td>\n",
       "      <td>27.135000</td>\n",
       "      <td>NaN</td>\n",
       "    </tr>\n",
       "    <tr>\n",
       "      <th>50%</th>\n",
       "      <td>NaN</td>\n",
       "      <td>NaN</td>\n",
       "      <td>NaN</td>\n",
       "      <td>2023-09-01 00:00:00</td>\n",
       "      <td>37.840000</td>\n",
       "      <td>NaN</td>\n",
       "    </tr>\n",
       "    <tr>\n",
       "      <th>75%</th>\n",
       "      <td>NaN</td>\n",
       "      <td>NaN</td>\n",
       "      <td>NaN</td>\n",
       "      <td>2024-02-01 00:00:00</td>\n",
       "      <td>49.360000</td>\n",
       "      <td>NaN</td>\n",
       "    </tr>\n",
       "    <tr>\n",
       "      <th>max</th>\n",
       "      <td>NaN</td>\n",
       "      <td>NaN</td>\n",
       "      <td>NaN</td>\n",
       "      <td>2024-06-01 00:00:00</td>\n",
       "      <td>90.400000</td>\n",
       "      <td>NaN</td>\n",
       "    </tr>\n",
       "    <tr>\n",
       "      <th>std</th>\n",
       "      <td>NaN</td>\n",
       "      <td>NaN</td>\n",
       "      <td>NaN</td>\n",
       "      <td>NaN</td>\n",
       "      <td>16.420506</td>\n",
       "      <td>NaN</td>\n",
       "    </tr>\n",
       "  </tbody>\n",
       "</table>\n",
       "</div>"
      ],
      "text/plain": [
       "        creator_id product order_type                     order_date  \\\n",
       "count         1055    1055       1055                           1055   \n",
       "unique          20       6          3                            NaN   \n",
       "top     creator_17  E-book        new                            NaN   \n",
       "freq            65     216        368                            NaN   \n",
       "mean           NaN     NaN        NaN  2023-09-14 13:34:51.753554432   \n",
       "min            NaN     NaN        NaN            2023-01-01 00:00:00   \n",
       "25%            NaN     NaN        NaN            2023-05-01 00:00:00   \n",
       "50%            NaN     NaN        NaN            2023-09-01 00:00:00   \n",
       "75%            NaN     NaN        NaN            2024-02-01 00:00:00   \n",
       "max            NaN     NaN        NaN            2024-06-01 00:00:00   \n",
       "std            NaN     NaN        NaN                            NaN   \n",
       "\n",
       "        order_value     niche  \n",
       "count   1055.000000      1055  \n",
       "unique          NaN         8  \n",
       "top             NaN  Wellness  \n",
       "freq            NaN       149  \n",
       "mean      38.339460       NaN  \n",
       "min        0.500000       NaN  \n",
       "25%       27.135000       NaN  \n",
       "50%       37.840000       NaN  \n",
       "75%       49.360000       NaN  \n",
       "max       90.400000       NaN  \n",
       "std       16.420506       NaN  "
      ]
     },
     "execution_count": 14,
     "metadata": {},
     "output_type": "execute_result"
    }
   ],
   "source": [
    "# Confirm clean data\n",
    "df.info()\n",
    "df.describe(include='all')"
   ]
  },
  {
   "cell_type": "markdown",
   "id": "84076fda",
   "metadata": {},
   "source": [
    "---\n",
    "\n",
    "#### Exploratory Data Analysis\n",
    "#### Q1: What product types drive the most revenue efficiency (revenue per order)?"
   ]
  },
  {
   "cell_type": "code",
   "execution_count": 15,
   "id": "fb93eed3",
   "metadata": {},
   "outputs": [
    {
     "name": "stdout",
     "output_type": "stream",
     "text": [
      "           product  total_revenue  total_orders\n",
      "0  1-on-1 Coaching        7301.21           197\n",
      "1           E-book        8236.18           216\n",
      "2       Membership        8130.94           203\n",
      "3    Online Course        6776.44           183\n",
      "4    Template Pack        8011.49           208\n",
      "5          Unknown        1991.87            48\n"
     ]
    }
   ],
   "source": [
    "# Group the data by product and aggregate total revenue and total order count\n",
    "product_group = df.groupby('product').agg({\n",
    "    'order_value': ['sum', 'count']\n",
    "})\n",
    "\n",
    "# Rename columns for clarity\n",
    "product_group.columns = ['total_revenue', 'total_orders']\n",
    "product_group = product_group.reset_index()\n",
    "\n",
    "# Preview the result\n",
    "print(product_group)"
   ]
  },
  {
   "cell_type": "code",
   "execution_count": 16,
   "id": "c4eee337",
   "metadata": {},
   "outputs": [
    {
     "name": "stdout",
     "output_type": "stream",
     "text": [
      "           product  total_revenue  total_orders  revenue_per_order\n",
      "0  1-on-1 Coaching        7301.21           197          37.061980\n",
      "1           E-book        8236.18           216          38.130463\n",
      "2       Membership        8130.94           203          40.053892\n",
      "3    Online Course        6776.44           183          37.029727\n",
      "4    Template Pack        8011.49           208          38.516779\n",
      "5          Unknown        1991.87            48          41.497292\n"
     ]
    }
   ],
   "source": [
    "# Create a new column to measure revenue efficiency\n",
    "product_group['revenue_per_order'] = product_group['total_revenue'] / product_group['total_orders']\n",
    "print(product_group)"
   ]
  },
  {
   "cell_type": "code",
   "execution_count": 17,
   "id": "ac422ddc",
   "metadata": {},
   "outputs": [
    {
     "data": {
      "image/png": "[encoded data removed]",
      "text/plain": [
       "<Figure size 800x500 with 1 Axes>"
      ]
     },
     "metadata": {},
     "output_type": "display_data"
    }
   ],
   "source": [
    "# Sort by revenue_per_order for better visual clarity\n",
    "sorted_group = product_group.sort_values('revenue_per_order', ascending=True)\n",
    "\n",
    "plt.figure(figsize=(8,5))\n",
    "sns.barplot(\n",
    "    data = sorted_group,\n",
    "    x = 'revenue_per_order',\n",
    "    y = 'product',\n",
    "    hue = 'product',\n",
    "    palette = 'crest',\n",
    "    legend = False\n",
    ")\n",
    "\n",
    "plt.title('Revenue per Order by Product Type', fontsize=14)\n",
    "plt.xlabel('Average Revenue per Order ($)')\n",
    "plt.ylabel('Product Type')\n",
    "plt.show()"
   ]
  },
  {
   "cell_type": "markdown",
   "id": "d05be0ce",
   "metadata": {},
   "source": [
    "**📌 Note:**\n",
    "\n",
    "The `Unknown` product type represents rows where the product name was missing. While its revenue efficiency appears highest, it's excluded from strategic insights due to data quality concerns.\n",
    "\n",
    "**📈 Insights:**\n",
    "- Among all defined product categories, `Memberships` deliver the highest revenue per order, suggesting strong value perception or pricing power.\n",
    "- Close contenders include `Template Packs` and `E-books`, both offering consistent revenue efficiency.\n",
    "These insights can guide the platform's product development, creator education, or promotional efforts toward top-performing formats.\n",
    "\n",
    "**💡 Actionable Recommendation**\n",
    "\n",
    "Focus on promoting high value products like courses or memberships to increase revenue efficiency."
   ]
  },
  {
   "cell_type": "markdown",
   "id": "400307f7",
   "metadata": {},
   "source": [
    "---\n",
    "#### Q2: How does product performance vary across different creator niches (e.g. Business, Wellness, Finance)?"
   ]
  },
  {
   "cell_type": "code",
   "execution_count": 56,
   "id": "d269db22",
   "metadata": {},
   "outputs": [
    {
     "name": "stdout",
     "output_type": "stream",
     "text": [
      "                  niche  total_revenue\n",
      "7              Wellness        5676.57\n",
      "4               Fitness        5654.41\n",
      "3               Finance        5619.96\n",
      "0      Beauty/Lifestyle        5285.41\n",
      "2                Career        5111.71\n",
      "5  Personal Development        4753.64\n",
      "1              Business        4375.26\n",
      "6          Productivity        3971.17\n"
     ]
    }
   ],
   "source": [
    "# Grouping total revenue by both niche and product\n",
    "niche_group = df.groupby(\"niche\").agg(total_revenue=(\"order_value\", \"sum\")).reset_index()\n",
    "\n",
    "# Display top results\n",
    "niche_group_sorted = niche_group.sort_values(by=\"total_revenue\", ascending=False)\n",
    "print(niche_group_sorted.head(10))"
   ]
  },
  {
   "cell_type": "code",
   "execution_count": 62,
   "id": "77fbeec2",
   "metadata": {},
   "outputs": [
    {
     "data": {
      "image/png": "[encoded data removed]",
      "text/plain": [
       "<Figure size 800x500 with 1 Axes>"
      ]
     },
     "metadata": {},
     "output_type": "display_data"
    }
   ],
   "source": [
    "plt.figure(figsize=(8,5))\n",
    "sns.barplot(\n",
    "    data = niche_group_sorted,\n",
    "    x = \"niche\",\n",
    "    y = \"total_revenue\",\n",
    "    palette = 'crest',\n",
    "    hue = 'total_revenue',\n",
    "    legend = False\n",
    ")\n",
    "\n",
    "plt.title(\"Total Revenue Across Niches\", fontsize=14)\n",
    "plt.ylabel(\"Total Revenue ($)\")\n",
    "plt.xlabel(\"Creator Niche\")\n",
    "plt.xticks(rotation=45)\n",
    "plt.tight_layout()\n",
    "plt.show()"
   ]
  },
  {
   "cell_type": "markdown",
   "id": "2355c4e8",
   "metadata": {},
   "source": [
    "**📈 Insights**\n",
    "\n",
    "The Wellness, Fitness, and Finance niches generate the most total revenue."
   ]
  },
  {
   "cell_type": "markdown",
   "id": "d8d86da6",
   "metadata": {},
   "source": [
    "---\n",
    "#### Q3: Are there any monthly or seasonal trends in revenue over time?"
   ]
  },
  {
   "cell_type": "code",
   "execution_count": 20,
   "id": "075b626a",
   "metadata": {},
   "outputs": [],
   "source": [
    "# Create a new column with Month-Year format\n",
    "df['order_month'] = df['order_date'].dt.to_period('M')\n",
    "\n",
    "# Group by month and calculate total revenue\n",
    "monthly_revenue = df.groupby('order_month')['order_value'].sum().reset_index()\n",
    "\n",
    "# Convert 'order_month' back to string for plotting\n",
    "monthly_revenue['order_month'] = monthly_revenue['order_month'].astype(str)"
   ]
  },
  {
   "cell_type": "code",
   "execution_count": 34,
   "id": "699dc0f4",
   "metadata": {},
   "outputs": [
    {
     "data": {
      "image/png": "[encoded data removed]",
      "text/plain": [
       "<Figure size 800x500 with 1 Axes>"
      ]
     },
     "metadata": {},
     "output_type": "display_data"
    }
   ],
   "source": [
    "plt.figure(figsize=(8,5))\n",
    "sns.lineplot(data=monthly_revenue, x='order_month', y='order_value', marker='o', linewidth=2)\n",
    "plt.title('Monthly Revenue Trend Over Time')\n",
    "plt.xlabel('Month')\n",
    "plt.ylabel('Total Revenue ($)')\n",
    "plt.xticks(rotation=45)\n",
    "plt.grid(True)\n",
    "plt.tight_layout()\n",
    "plt.show()"
   ]
  },
  {
   "cell_type": "markdown",
   "id": "2a5ceb36",
   "metadata": {},
   "source": [
    "**📈 Insights**\n",
    "\n",
    "- *April 2023* had the *highest* revenue spike across the dataset. This might be from a seasonal campaign or a strong creator/product push.\n",
    "- Revenue *dipped* in *May 2023, June 2023, and February 2024*. These slowdowns could be due to post-holiday fatigue, low customer demand, or less creator activity.\n",
    "\n",
    "There’s a clear pattern: after a few slow months, revenue tends to bounce back, likely when creators drop new products or the platform runs promotions."
   ]
  },
  {
   "cell_type": "markdown",
   "id": "4d8cad0f",
   "metadata": {},
   "source": [
    "---\n",
    "#### Q4: What pricing ranges tend to perform best across different product types?\n",
    "\n",
    "First, we create price ranges."
   ]
  },
  {
   "cell_type": "code",
   "execution_count": 25,
   "id": "572c1e94",
   "metadata": {},
   "outputs": [],
   "source": [
    "df['price_range'] = pd.cut(df['order_value'],\n",
    "                           bins=[0, 20, 40, 60, 80, 100],\n",
    "                           labels=['<$20', '$20 - $40', '$40 - $60', '$60 - $80', '$80+'])"
   ]
  },
  {
   "cell_type": "markdown",
   "id": "1affb63e",
   "metadata": {},
   "source": [
    "Then, we group by product & price range to see what performs best."
   ]
  },
  {
   "cell_type": "code",
   "execution_count": 37,
   "id": "0c62409d",
   "metadata": {},
   "outputs": [
    {
     "name": "stdout",
     "output_type": "stream",
     "text": [
      "            product price_range  num_orders  total_revenue\n",
      "6            E-book   $40 - $60          82        3978.48\n",
      "2   1-on-1 Coaching   $40 - $60          75        3724.82\n",
      "21    Template Pack   $40 - $60          76        3619.80\n",
      "11       Membership   $40 - $60          70        3453.57\n",
      "20    Template Pack   $20 - $40          89        2810.76\n",
      "15    Online Course   $20 - $40          87        2659.68\n",
      "10       Membership   $20 - $40          81        2644.19\n",
      "5            E-book   $20 - $40          87        2590.77\n",
      "16    Online Course   $40 - $60          51        2432.53\n",
      "1   1-on-1 Coaching   $20 - $40          76        2327.73\n"
     ]
    }
   ],
   "source": [
    "result = df.groupby(['product', 'price_range'], observed=True)['order_value'].agg(['count', 'sum']).reset_index()\n",
    "result.columns = ['product', 'price_range', 'num_orders', 'total_revenue']\n",
    "\n",
    "print(result.sort_values(by='total_revenue', ascending=False).head(10))"
   ]
  },
  {
   "cell_type": "code",
   "execution_count": 67,
   "id": "a19f20e3",
   "metadata": {},
   "outputs": [
    {
     "data": {
      "image/png": "[encoded data removed]",
      "text/plain": [
       "<Figure size 800x500 with 1 Axes>"
      ]
     },
     "metadata": {},
     "output_type": "display_data"
    }
   ],
   "source": [
    "plt.figure(figsize=(8, 5))\n",
    "sns.barplot(data=result, x='price_range', y='total_revenue', hue='product')\n",
    "plt.title('Best-Performing Price Ranges by Product Type')\n",
    "plt.ylabel('Total Revenue')\n",
    "plt.xlabel('Price Range')\n",
    "plt.tight_layout()\n",
    "plt.show()\n"
   ]
  },
  {
   "cell_type": "markdown",
   "id": "4417e266",
   "metadata": {},
   "source": [
    "**📈 Insights**\n",
    "- The *$40–$60 price range* consistently drives the highest total revenue across all product types.\n",
    "- *$20–$40* is the second-best performing range and shows strong results for Template Packs.\n",
    "- *$80+ and <$20 pricing* generate minimal revenue across the board."
   ]
  },
  {
   "cell_type": "markdown",
   "id": "84311c32",
   "metadata": {},
   "source": [
    "---\n",
    "#### Q5: Who are the top-performing creators, and what types of products do they sell most?"
   ]
  },
  {
   "cell_type": "code",
   "execution_count": null,
   "id": "7ec9d680",
   "metadata": {},
   "outputs": [
    {
     "name": "stdout",
     "output_type": "stream",
     "text": [
      "    creator_id  total_revenue  total_orders      top_product\n",
      "0    creator_4        2635.13            64    Template Pack\n",
      "1   creator_17        2521.67            65  1-on-1 Coaching\n",
      "2    creator_9        2429.05            58       Membership\n",
      "3   creator_10        2303.36            60    Online Course\n",
      "4   creator_15        2260.97            63  1-on-1 Coaching\n",
      "5   creator_20        2251.27            57       Membership\n",
      "6   creator_18        2236.08            56    Template Pack\n",
      "7   creator_14        2210.74            61    Template Pack\n",
      "8    creator_6        2065.74            51       Membership\n",
      "9    creator_1        2038.50            54           E-book\n",
      "10   creator_8        1926.12            51    Template Pack\n",
      "11   creator_3        1877.56            49    Template Pack\n",
      "12  creator_11        1857.69            49           E-book\n",
      "13  creator_19        1804.43            46  1-on-1 Coaching\n",
      "14  creator_13        1779.13            46  1-on-1 Coaching\n",
      "15  creator_16        1747.71            46    Online Course\n",
      "16  creator_12        1742.59            48       Membership\n",
      "17   creator_2        1654.87            47           E-book\n",
      "18   creator_5        1587.19            42  1-on-1 Coaching\n",
      "19   creator_7        1518.33            42           E-book\n"
     ]
    }
   ],
   "source": [
    "# Total revenue and most common product per creator\n",
    "top_creators = df.groupby('creator_id').agg(\n",
    "    total_revenue=('order_value', 'sum'),\n",
    "    total_orders=('order_value', 'count'),\n",
    "    top_product=('product', lambda x: x.mode()[0])\n",
    ").sort_values(by='total_revenue', ascending=False).reset_index()\n",
    "\n",
    "print(top_creators)"
   ]
  },
  {
   "cell_type": "markdown",
   "id": "60633ad2",
   "metadata": {},
   "source": [
    "**📈 Insights**\n",
    "- *Creator_4 leads in total revenue ($2,635.13)*, with Template Packs being their best-selling product.\n",
    "- 1-on-1 Coaching shows up frequently in the top-performing creators (e.g., creator_17, _15, _13, _5), highlighting strong demand for personalized offerings.\n",
    "- Memberships and E-books are also popular and revenue-generating, proving that scalable content remains a strong monetization model."
   ]
  }
 ],
 "metadata": {
  "kernelspec": {
   "display_name": "base",
   "language": "python",
   "name": "python3"
  },
  "language_info": {
   "codemirror_mode": {
    "name": "ipython",
    "version": 3
   },
   "file_extension": ".py",
   "mimetype": "text/x-python",
   "name": "python",
   "nbconvert_exporter": "python",
   "pygments_lexer": "ipython3",
   "version": "3.12.7"
  }
 },
 "nbformat": 4,
 "nbformat_minor": 5
}
